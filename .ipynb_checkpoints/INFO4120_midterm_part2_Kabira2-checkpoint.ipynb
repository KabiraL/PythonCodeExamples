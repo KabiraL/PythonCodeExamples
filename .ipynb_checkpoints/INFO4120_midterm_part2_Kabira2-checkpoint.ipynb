{
 "cells": [
  {
   "cell_type": "code",
   "execution_count": 1,
   "id": "0f492e73-7d1e-4d6e-b02f-0eab65c20a51",
   "metadata": {},
   "outputs": [],
   "source": [
    "# install packages\n",
    "import numpy as np # For matrix and numerical calculations; foundation of pandas\n",
    "import pandas as pd \n",
    "import seaborn as sns # For visualizations and plotting\n",
    "import matplotlib.pyplot as plt # For visualizations and plotting\n",
    "%matplotlib inline\n",
    "from pandas import Series, DataFrame\n",
    "import matplotlib.transforms\n"
   ]
  },
  {
   "cell_type": "code",
   "execution_count": 2,
   "id": "a465cc96-ce4a-45e3-8abf-b8c650edff12",
   "metadata": {},
   "outputs": [
    {
     "name": "stdout",
     "output_type": "stream",
     "text": [
      "<class 'pandas.core.frame.DataFrame'>\n",
      "RangeIndex: 103 entries, 0 to 102\n",
      "Data columns (total 32 columns):\n",
      " #   Column                                Non-Null Count  Dtype  \n",
      "---  ------                                --------------  -----  \n",
      " 0   Country_ID                            103 non-null    int64  \n",
      " 1   Country                               103 non-null    object \n",
      " 2   Total Population                      103 non-null    float64\n",
      " 3   Region                                103 non-null    object \n",
      " 4   A/V & Photo Adj                       103 non-null    float64\n",
      " 5   Education Adj                         103 non-null    float64\n",
      " 6   Jewellery & Travel Goods Adj          103 non-null    float64\n",
      " 7   Reading Materials Adj                 103 non-null    float64\n",
      " 8   Recreation - Other Adj                103 non-null    float64\n",
      " 9   Garden & Pets Adj                     103 non-null    float64\n",
      " 10  Personal Care Adj                     103 non-null    float64\n",
      " 11  Recreational & Cultural Services Adj  103 non-null    float64\n",
      " 12  Disposable Income Adj                 103 non-null    float64\n",
      " 13  Action Figure Toys Adj                32 non-null     float64\n",
      " 14  Arts & Crafts Toys Adj                32 non-null     float64\n",
      " 15  Baby Toys Adj                         32 non-null     float64\n",
      " 16  Construction Toys Adj                 32 non-null     float64\n",
      " 17  Dolls Adj                             32 non-null     float64\n",
      " 18  Dress-Up & Role Play Adj              32 non-null     float64\n",
      " 19  Games & Puzzles Adj                   32 non-null     float64\n",
      " 20  Model Vehicles Adj                    32 non-null     float64\n",
      " 21  Other Toys & Games Adj                32 non-null     float64\n",
      " 22  Outdoor Toys & Sports Adj             32 non-null     float64\n",
      " 23  Plush Toys Adj                        32 non-null     float64\n",
      " 24  Pre-School Toys Adj                   32 non-null     float64\n",
      " 25  Remote Control Toys Adj               32 non-null     float64\n",
      " 26  Ride-On Toy Vehicles Adj              32 non-null     float64\n",
      " 27  Educational Toys Adj                  32 non-null     float64\n",
      " 28  Video Games Hardware Adj              32 non-null     float64\n",
      " 29  Video Games Software Adj              32 non-null     float64\n",
      " 30  Total Toys                            32 non-null     float64\n",
      " 31  BinIncome                             103 non-null    object \n",
      "dtypes: float64(28), int64(1), object(3)\n",
      "memory usage: 25.9+ KB\n"
     ]
    }
   ],
   "source": [
    "# Reading in Final Version file from Part 1\n",
    "df=pd.read_csv('final_version_file.csv')\n",
    "\n",
    "# Dropping extra column\n",
    "dfNew=df.drop(columns=['Unnamed: 0'])\n",
    "dfNew.info()"
   ]
  },
  {
   "cell_type": "code",
   "execution_count": 3,
   "id": "3d4d206e-3d0a-43ba-a2c2-ce2b0b0aa07e",
   "metadata": {},
   "outputs": [
    {
     "name": "stdout",
     "output_type": "stream",
     "text": [
      "\n",
      "ANALYSIS MENU\n",
      "1. Disposable Income Descriptive Statistics\n",
      "2. Education Spending Descriptive Statistics\n",
      "3. Disposable Income Histogram\n",
      "4. Education Spending Histogram\n",
      "5. Scatterplot of Disposable Income X Education Spending\n",
      "6. Bar plot of binned Adjusted Disposable Income\n",
      "7. Boxplot of Disposable Income X Region\n",
      "8. Boxplot of Education spending by Region\n",
      "9. Quit\n"
     ]
    },
    {
     "name": "stdin",
     "output_type": "stream",
     "text": [
      "Please enter your choice:  y\n"
     ]
    },
    {
     "name": "stdout",
     "output_type": "stream",
     "text": [
      "You'll need to enter 1, 2, 3, 4, 5, 6, 7, 8, or 9\n",
      "\n",
      "ANALYSIS MENU\n",
      "1. Disposable Income Descriptive Statistics\n",
      "2. Education Spending Descriptive Statistics\n",
      "3. Disposable Income Histogram\n",
      "4. Education Spending Histogram\n",
      "5. Scatterplot of Disposable Income X Education Spending\n",
      "6. Bar plot of binned Adjusted Disposable Income\n",
      "7. Boxplot of Disposable Income X Region\n",
      "8. Boxplot of Education spending by Region\n",
      "9. Quit\n"
     ]
    },
    {
     "name": "stdin",
     "output_type": "stream",
     "text": [
      "Please enter your choice:  0\n"
     ]
    },
    {
     "name": "stdout",
     "output_type": "stream",
     "text": [
      "You may only choose 1, 2, 3, 4, 5, 6, 7, 8, or 9\n",
      "\n",
      "ANALYSIS MENU\n",
      "1. Disposable Income Descriptive Statistics\n",
      "2. Education Spending Descriptive Statistics\n",
      "3. Disposable Income Histogram\n",
      "4. Education Spending Histogram\n",
      "5. Scatterplot of Disposable Income X Education Spending\n",
      "6. Bar plot of binned Adjusted Disposable Income\n",
      "7. Boxplot of Disposable Income X Region\n",
      "8. Boxplot of Education spending by Region\n",
      "9. Quit\n"
     ]
    },
    {
     "name": "stdin",
     "output_type": "stream",
     "text": [
      "Please enter your choice:  1\n"
     ]
    },
    {
     "name": "stdout",
     "output_type": "stream",
     "text": [
      "\n",
      "----------------------------------------\n",
      "Per Capita Disposable Income Descriptive Statistics\n",
      "All values are in $1000 US\n",
      "\n",
      "Note the significant disparities: \n",
      "the minimum is $0.53\n",
      "the first quartile is approximately $106;\n",
      "the third quartile is approximately $404;\n",
      "and the maximum is almost 4.5 times the amount of the third quartile at $1,816.\n",
      "\n",
      "count    103.000000\n",
      "mean      15.238910\n",
      "std       12.832972\n",
      "min        0.087840\n",
      "25%        4.288437\n",
      "50%       11.356204\n",
      "75%       24.351715\n",
      "max       53.587068\n",
      "Name: Disposable Income Adj, dtype: float64\n",
      "\n",
      "----------------------------------------\n",
      "\n",
      "\n",
      "ANALYSIS MENU\n",
      "1. Disposable Income Descriptive Statistics\n",
      "2. Education Spending Descriptive Statistics\n",
      "3. Disposable Income Histogram\n",
      "4. Education Spending Histogram\n",
      "5. Scatterplot of Disposable Income X Education Spending\n",
      "6. Bar plot of binned Adjusted Disposable Income\n",
      "7. Boxplot of Disposable Income X Region\n",
      "8. Boxplot of Education spending by Region\n",
      "9. Quit\n"
     ]
    },
    {
     "name": "stdin",
     "output_type": "stream",
     "text": [
      "Please enter your choice:  2\n"
     ]
    },
    {
     "name": "stdout",
     "output_type": "stream",
     "text": [
      "\n",
      "----------------------------------------\n",
      "Per Capita Education Spending Descriptive Statistics\n",
      "All values are in USD\n",
      "\n",
      "Note the significant disparities: \n",
      "the minimum is $87;\n",
      "the first quartile is under $4,500;\n",
      "the third quartile is under $24,500;\n",
      "and the maximum is more than twice the amount of the third quartile at over $53,000.\n",
      "\n",
      "count     103.000000\n",
      "mean      301.450642\n",
      "std       322.832779\n",
      "min         0.526516\n",
      "25%       106.102819\n",
      "50%       197.260583\n",
      "75%       403.724624\n",
      "max      1816.162718\n",
      "Name: Education Adj, dtype: float64\n",
      "\n",
      "----------------------------------------\n",
      "\n",
      "\n",
      "ANALYSIS MENU\n",
      "1. Disposable Income Descriptive Statistics\n",
      "2. Education Spending Descriptive Statistics\n",
      "3. Disposable Income Histogram\n",
      "4. Education Spending Histogram\n",
      "5. Scatterplot of Disposable Income X Education Spending\n",
      "6. Bar plot of binned Adjusted Disposable Income\n",
      "7. Boxplot of Disposable Income X Region\n",
      "8. Boxplot of Education spending by Region\n",
      "9. Quit\n"
     ]
    },
    {
     "name": "stdin",
     "output_type": "stream",
     "text": [
      "Please enter your choice:  3\n"
     ]
    },
    {
     "name": "stdout",
     "output_type": "stream",
     "text": [
      "\n",
      "\n"
     ]
    },
    {
     "data": {
      "image/png": "[encoded data removed]",
      "text/plain": [
       "<Figure size 432x288 with 1 Axes>"
      ]
     },
     "metadata": {
      "needs_background": "light"
     },
     "output_type": "display_data"
    },
    {
     "name": "stdout",
     "output_type": "stream",
     "text": [
      "\n",
      "ANALYSIS MENU\n",
      "1. Disposable Income Descriptive Statistics\n",
      "2. Education Spending Descriptive Statistics\n",
      "3. Disposable Income Histogram\n",
      "4. Education Spending Histogram\n",
      "5. Scatterplot of Disposable Income X Education Spending\n",
      "6. Bar plot of binned Adjusted Disposable Income\n",
      "7. Boxplot of Disposable Income X Region\n",
      "8. Boxplot of Education spending by Region\n",
      "9. Quit\n"
     ]
    },
    {
     "name": "stdin",
     "output_type": "stream",
     "text": [
      "Please enter your choice:  4\n"
     ]
    },
    {
     "name": "stdout",
     "output_type": "stream",
     "text": [
      "\n",
      "\n"
     ]
    },
    {
     "data": {
      "image/png": "[encoded data removed]",
      "text/plain": [
       "<Figure size 432x288 with 1 Axes>"
      ]
     },
     "metadata": {
      "needs_background": "light"
     },
     "output_type": "display_data"
    },
    {
     "name": "stdout",
     "output_type": "stream",
     "text": [
      "\n",
      "ANALYSIS MENU\n",
      "1. Disposable Income Descriptive Statistics\n",
      "2. Education Spending Descriptive Statistics\n",
      "3. Disposable Income Histogram\n",
      "4. Education Spending Histogram\n",
      "5. Scatterplot of Disposable Income X Education Spending\n",
      "6. Bar plot of binned Adjusted Disposable Income\n",
      "7. Boxplot of Disposable Income X Region\n",
      "8. Boxplot of Education spending by Region\n",
      "9. Quit\n"
     ]
    },
    {
     "name": "stdin",
     "output_type": "stream",
     "text": [
      "Please enter your choice:  5\n"
     ]
    },
    {
     "name": "stdout",
     "output_type": "stream",
     "text": [
      "\n",
      "\n"
     ]
    },
    {
     "data": {
      "image/png": "[encoded data removed]",
      "text/plain": [
       "<Figure size 432x288 with 1 Axes>"
      ]
     },
     "metadata": {
      "needs_background": "light"
     },
     "output_type": "display_data"
    },
    {
     "name": "stdout",
     "output_type": "stream",
     "text": [
      "\n",
      "ANALYSIS MENU\n",
      "1. Disposable Income Descriptive Statistics\n",
      "2. Education Spending Descriptive Statistics\n",
      "3. Disposable Income Histogram\n",
      "4. Education Spending Histogram\n",
      "5. Scatterplot of Disposable Income X Education Spending\n",
      "6. Bar plot of binned Adjusted Disposable Income\n",
      "7. Boxplot of Disposable Income X Region\n",
      "8. Boxplot of Education spending by Region\n",
      "9. Quit\n"
     ]
    },
    {
     "name": "stdin",
     "output_type": "stream",
     "text": [
      "Please enter your choice:  6\n"
     ]
    },
    {
     "name": "stdout",
     "output_type": "stream",
     "text": [
      "\n",
      "\n"
     ]
    },
    {
     "data": {
      "image/png": "[encoded data removed]",
      "text/plain": [
       "<Figure size 432x288 with 1 Axes>"
      ]
     },
     "metadata": {
      "needs_background": "light"
     },
     "output_type": "display_data"
    },
    {
     "name": "stdout",
     "output_type": "stream",
     "text": [
      "\n",
      "ANALYSIS MENU\n",
      "1. Disposable Income Descriptive Statistics\n",
      "2. Education Spending Descriptive Statistics\n",
      "3. Disposable Income Histogram\n",
      "4. Education Spending Histogram\n",
      "5. Scatterplot of Disposable Income X Education Spending\n",
      "6. Bar plot of binned Adjusted Disposable Income\n",
      "7. Boxplot of Disposable Income X Region\n",
      "8. Boxplot of Education spending by Region\n",
      "9. Quit\n"
     ]
    },
    {
     "name": "stdin",
     "output_type": "stream",
     "text": [
      "Please enter your choice:  7\n"
     ]
    },
    {
     "name": "stdout",
     "output_type": "stream",
     "text": [
      "\n",
      "\n"
     ]
    },
    {
     "data": {
      "image/png": "[encoded data removed]",
      "text/plain": [
       "<Figure size 432x288 with 1 Axes>"
      ]
     },
     "metadata": {
      "needs_background": "light"
     },
     "output_type": "display_data"
    },
    {
     "name": "stdout",
     "output_type": "stream",
     "text": [
      "\n",
      "ANALYSIS MENU\n",
      "1. Disposable Income Descriptive Statistics\n",
      "2. Education Spending Descriptive Statistics\n",
      "3. Disposable Income Histogram\n",
      "4. Education Spending Histogram\n",
      "5. Scatterplot of Disposable Income X Education Spending\n",
      "6. Bar plot of binned Adjusted Disposable Income\n",
      "7. Boxplot of Disposable Income X Region\n",
      "8. Boxplot of Education spending by Region\n",
      "9. Quit\n"
     ]
    },
    {
     "name": "stdin",
     "output_type": "stream",
     "text": [
      "Please enter your choice:  8\n"
     ]
    },
    {
     "name": "stdout",
     "output_type": "stream",
     "text": [
      "\n",
      "\n"
     ]
    },
    {
     "data": {
      "image/png": "[encoded data removed]",
      "text/plain": [
       "<Figure size 432x288 with 1 Axes>"
      ]
     },
     "metadata": {
      "needs_background": "light"
     },
     "output_type": "display_data"
    },
    {
     "name": "stdout",
     "output_type": "stream",
     "text": [
      "\n",
      "ANALYSIS MENU\n",
      "1. Disposable Income Descriptive Statistics\n",
      "2. Education Spending Descriptive Statistics\n",
      "3. Disposable Income Histogram\n",
      "4. Education Spending Histogram\n",
      "5. Scatterplot of Disposable Income X Education Spending\n",
      "6. Bar plot of binned Adjusted Disposable Income\n",
      "7. Boxplot of Disposable Income X Region\n",
      "8. Boxplot of Education spending by Region\n",
      "9. Quit\n"
     ]
    },
    {
     "name": "stdin",
     "output_type": "stream",
     "text": [
      "Please enter your choice:  9\n"
     ]
    }
   ],
   "source": [
    "def infoMenu(dfNew):\n",
    "    #Menu\n",
    "    quit = False\n",
    "    while quit ==False:\n",
    "        print(\"\\nANALYSIS MENU\")\n",
    "        print(\"1. Disposable Income Descriptive Statistics\")\n",
    "        print(\"2. Education Spending Descriptive Statistics\")\n",
    "        print(\"3. Disposable Income Histogram\")\n",
    "        print(\"4. Education Spending Histogram\")\n",
    "        print(\"5. Scatterplot of Disposable Income X Education Spending\")\n",
    "        print(\"6. Bar plot of binned Adjusted Disposable Income\")\n",
    "        print(\"7. Boxplot of Disposable Income X Region\")\n",
    "        print(\"8. Boxplot of Education spending by Region\")\n",
    "        print(\"9. Quit\")\n",
    "        menu_choice = input(\"Please enter your choice: \")\n",
    "        try:\n",
    "            menu_choice = int(menu_choice) # changes input string to int datatype\n",
    "        except: # user enters non-numeric value\n",
    "            print(\"You'll need to enter 1, 2, 3, 4, 5, 6, 7, 8, or 9\")\n",
    "            continue # takes user back to menu choice\n",
    "        if menu_choice not in [1, 2, 3, 4, 5, 6, 7, 8, 9]: # making sure only valid entries\n",
    "            print(\"You may only choose 1, 2, 3, 4, 5, 6, 7, 8, or 9\")\n",
    "        else:\n",
    "            if menu_choice == 1:\n",
    "                print('')\n",
    "                print(\"----------------------------------------\")\n",
    "                print(\"Per Capita Disposable Income Descriptive Statistics\")\n",
    "                print(\"All values are in $1000 US\")\n",
    "                print('')\n",
    "                print(\"Note the significant disparities: \")\n",
    "                print(\"the minimum is $0.53\")\n",
    "                print(\"the first quartile is approximately $106;\")\n",
    "                print(\"the third quartile is approximately $404;\")\n",
    "                print(\"and the maximum is almost 4.5 times the amount of the third quartile at $1,816.\")\n",
    "                print('')\n",
    "                print(dfNew['Disposable Income Adj'].describe())\n",
    "                print('')\n",
    "                print(\"----------------------------------------\")\n",
    "                print('')\n",
    "            if menu_choice == 2:\n",
    "                print('')\n",
    "                print(\"----------------------------------------\")\n",
    "                # Descriptive statistics of Education variable (USD)\n",
    "                print(\"Per Capita Education Spending Descriptive Statistics\")\n",
    "                print(\"All values are in USD\")\n",
    "                print('')\n",
    "                print(\"Note the significant disparities: \")\n",
    "                print(\"the minimum is $87;\")\n",
    "                print(\"the first quartile is under $4,500;\")\n",
    "                print(\"the third quartile is under $24,500;\")\n",
    "                print(\"and the maximum is more than twice the amount of the third quartile at over $53,000.\")\n",
    "                print('')\n",
    "                print(dfNew['Education Adj'].describe())\n",
    "                print('')\n",
    "                print(\"----------------------------------------\")\n",
    "                print('')\n",
    "            if menu_choice == 3:\n",
    "                # Histogram of Disposable Income variable (in $1000s USD)\n",
    "                print('')\n",
    "                print('')\n",
    "                x=dfNew['Disposable Income Adj']\n",
    "                fig=plt.figure()\n",
    "                plt.hist(x,color = 'lightblue', ec='purple') \n",
    "                plt.title('Per Capita Disposable Income')\n",
    "                plt.xticks(rotation=-45)\n",
    "                plt.ylabel('Number of Countries')\n",
    "                plt.xlabel('Per Capita Disposable Income ($1000s of USD)')\n",
    "                plt.show()\n",
    "            if menu_choice == 4:\n",
    "                print('')\n",
    "                print('')\n",
    "                #Histogram of Education Spending variable (in USD)\n",
    "                fig=plt.figure()\n",
    "                plt.hist(dfNew['Education Adj'],color = 'lightblue', ec='purple') \n",
    "                plt.title('Per Capita Education Spending')\n",
    "                plt.xticks(rotation=-45)\n",
    "                plt.ylabel('Number of Countries')\n",
    "                plt.xlabel('Per Capita Spending on Education (USD)')\n",
    "                plt.show()\n",
    "            if menu_choice == 5:\n",
    "                # Scatterplot of Education spending by Disposable Income\n",
    "                print('')\n",
    "                print('')\n",
    "                # Scatterplot of Education spending by Disposable Income\n",
    "                fig = plt.figure()\n",
    "                plt.scatter(dfNew['Disposable Income Adj'], dfNew['Education Adj'], color='orange', edgecolors='blue')\n",
    "                plt.title('Per Capita Education Spending by Disposable Income')\n",
    "                plt.ylabel('Per Capita Education Spending (USD)')\n",
    "                plt.xlabel('Per Capita Disposable Income ($1000 USD)')\n",
    "                z = np.polyfit(dfNew['Disposable Income Adj'], dfNew['Education Adj'], 1)\n",
    "                p = np.poly1d(z)\n",
    "                plt.plot(dfNew['Disposable Income Adj'], p(dfNew['Disposable Income Adj']), color=\"navy\", linewidth=1, linestyle=\"--\")\n",
    "                plt.show()\n",
    "            if menu_choice == 6:\n",
    "                print('')\n",
    "                print('')\n",
    "                # Bar plot of binned Adjusted Disposable Income - another way to look at bins\n",
    "                fig = plt.figure()\n",
    "                ax = dfNew['BinIncome'].value_counts(sort=False).plot.bar(color=\"g\", figsize=(6,4))\n",
    "                plt.title('Per Capita Income in $1,000 US')\n",
    "                plt.ylabel('Number of Countries')\n",
    "                plt.xlabel('Income Categories')\n",
    "                plt.setp( ax.xaxis.get_majorticklabels(), rotation=-45) \n",
    "                dx = 10/72.; dy = 0/72. \n",
    "                offset = matplotlib.transforms.ScaledTranslation(dx, dy, fig.dpi_scale_trans)\n",
    "                for label in ax.xaxis.get_majorticklabels():\n",
    "                    label.set_transform(label.get_transform() + offset)\n",
    "                plt.show()\n",
    "            if menu_choice == 7:\n",
    "                # Boxplot of Disposable Income by Region\n",
    "                print('')\n",
    "                print('')\n",
    "                sns.boxplot(x=dfNew['Disposable Income Adj'], y=dfNew['Region'])\n",
    "                plt.title('Per Capita Disposable Income by Region')\n",
    "                plt.xlabel('Per Capita Disposable Income in Thousands of USD')\n",
    "                plt.ylabel('Region')\n",
    "                plt.show()\n",
    "            if menu_choice == 8:\n",
    "                print('')\n",
    "                print('')\n",
    "                # Boxplot of Education spending by Region\n",
    "                sns.boxplot(x=dfNew['Education Adj'], y=dfNew['Region'])\n",
    "                plt.title('Education Spending by Region')\n",
    "                plt.xlabel('Per Capita Spending on Education')\n",
    "                plt.ylabel('Region')\n",
    "                plt.show()\n",
    "            if menu_choice == 9:\n",
    "                quit = True\n",
    "    \n",
    "infoMenu(dfNew)    \n",
    "    "
   ]
  },
  {
   "cell_type": "markdown",
   "id": "b7743633-15cc-418c-ae16-b4cc1f2c4912",
   "metadata": {},
   "source": []
  }
 ],
 "metadata": {
  "kernelspec": {
   "display_name": "Python 3 (ipykernel)",
   "language": "python",
   "name": "python3"
  },
  "language_info": {
   "codemirror_mode": {
    "name": "ipython",
    "version": 3
   },
   "file_extension": ".py",
   "mimetype": "text/x-python",
   "name": "python",
   "nbconvert_exporter": "python",
   "pygments_lexer": "ipython3",
   "version": "3.10.9"
  }
 },
 "nbformat": 4,
 "nbformat_minor": 5
}
